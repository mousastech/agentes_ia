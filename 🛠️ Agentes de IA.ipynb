{
 "cells": [
  {
   "cell_type": "markdown",
   "metadata": {
    "application/vnd.databricks.v1+cell": {
     "cellMetadata": {},
     "inputWidgets": {},
     "nuid": "08f3a4d9-5f83-44a5-b641-9ec10130a3c4",
     "showTitle": false,
     "tableResultSettingsMap": {},
     "title": ""
    }
   },
   "source": [
    "<img src=\"https://github.com/mousastech/agentes_ia/blob/a6db91737186d6d21d7808bb9950b154376d1d69/img/headertools_aiagents.png?raw=true\" width=100%>\n",
    "\n",
    "# Usando Agentes de IA\n",
    "\n",
    "Capacitación práctica en la plataforma Databricks con enfoque en funcionalidades de IA generativa."
   ]
  },
  {
   "cell_type": "markdown",
   "metadata": {
    "application/vnd.databricks.v1+cell": {
     "cellMetadata": {},
     "inputWidgets": {},
     "nuid": "cc6716b1-13a0-4a56-b102-d12fea8f0796",
     "showTitle": false,
     "tableResultSettingsMap": {},
     "title": ""
    }
   },
   "source": [
    "## Objetivo del ejercicio\n",
    "\n",
    "El objetivo de este laboratorio es implementar el siguiente caso de uso:\n",
    "\n",
    "### Personalización del servicio con Agentes\n",
    "\n",
    "Los LLM son excelentes para responder preguntas. Sin embargo, esto por sí solo no es suficiente para ofrecer valor a sus clientes.\n",
    "\n",
    "Para poder proporcionar respuestas más complejas, se requiere información adicional específica del usuario, como su ID de contrato, el último correo electrónico que envió a su soporte o su informe de compra más reciente.\n",
    "\n",
    "Los agentes están diseñados para superar este desafío. Son despliegues de IA más avanzados, compuestos por múltiples entidades (herramientas) especializadas en diferentes acciones (recuperar información o interactuar con sistemas externos).\n",
    "\n",
    "En términos generales, usted crea y presenta un conjunto de funciones personalizadas a la IA. Luego, el LLM puede razonar sobre qué información debe recopilarse y qué herramientas utilizar para responder a las instrucciones que recibe.\n",
    "<br><br>\n",
    "\n",
    "<img src=\"https://github.com/mousastech/agentes_ia/blob/e4602f57c4a83b171c7c541e11244136cdd80816/img/llm-call.png?raw=true\" width=\"100%\">"
   ]
  },
  {
   "cell_type": "markdown",
   "metadata": {
    "application/vnd.databricks.v1+cell": {
     "cellMetadata": {},
     "inputWidgets": {},
     "nuid": "6326111c-8ef6-42c6-b9cf-f1b4941e5d12",
     "showTitle": false,
     "tableResultSettingsMap": {},
     "title": ""
    }
   },
   "source": [
    "## Preparación\n",
    "\n",
    "Para realizar los ejercicios, necesitamos prender a un Computo.\n",
    "\n",
    "Simplemente siga los pasos a continuación:\n",
    "1. En la esquina superior derecha, haga clic en **Conectar**\n",
    "2. Seleccione el tipo de Clúster **SQL Serverless Warehouse** o **Serverless**."
   ]
  },
  {
   "cell_type": "markdown",
   "metadata": {
    "application/vnd.databricks.v1+cell": {
     "cellMetadata": {},
     "inputWidgets": {},
     "nuid": "8d429d30-d141-49bc-870f-55bfac444a20",
     "showTitle": false,
     "tableResultSettingsMap": {},
     "title": ""
    }
   },
   "source": [
    "\n",
    "## Conjunto de datos de ejemplo\n",
    "\n",
    "Ahora, accedamos a las reseñas de productos que subimos en la práctica de laboratorio anterior.\n",
    "\n",
    "En esta práctica de laboratorio usaremos dos tablas:\n",
    "- **Evaluaciones**: datos no estructurados con el contenido de las evaluaciones\n",
    "- **Clientes**: datos estructurados como registro de clientes y consumo.\n",
    "\n",
    "¡Ahora visualicemos estos datos!"
   ]
  },
  {
   "cell_type": "markdown",
   "metadata": {
    "application/vnd.databricks.v1+cell": {
     "cellMetadata": {},
     "inputWidgets": {},
     "nuid": "2a8af6bb-6644-4342-b99e-655b547fa298",
     "showTitle": false,
     "tableResultSettingsMap": {},
     "title": ""
    }
   },
   "source": [
    "### A. Preparación de datos\n",
    "\n",
    "1. Crear o utilizar el catalogo `agents_ia`\n",
    "2. Crear o utilizar el schema `atencion`\n",
    "3. Crear el volumen `archivos`\n",
    "4. Importar los archivos de la carpeta `data` para el Volumen creado\n",
    "\n",
    "Código disponible en el notebook `⚙️ ./Setup`"
   ]
  },
  {
   "cell_type": "markdown",
   "metadata": {
    "application/vnd.databricks.v1+cell": {
     "cellMetadata": {},
     "inputWidgets": {},
     "nuid": "f98cc997-5662-4158-a80b-f7b19a9b00e7",
     "showTitle": false,
     "tableResultSettingsMap": {},
     "title": ""
    }
   },
   "source": [
    "## Usando el Unity Catalog Tools\n",
    "\n",
    "El primer paso en la construcción de nuestro agente será entender cómo utilizar **Unity Catalog Tools**.\n",
    "\n",
    "En la práctica de laboratorio anterior, creamos algunas funciones, como `revisar_evaluacion`, que nos permitió facilitar la invocación de nuestros modelos de IA generativa desde SQL. Sin embargo, nuestros LLM también pueden utilizar estas mismas funciones como herramientas. ¡Simplemente indique qué funciones puede utilizar el modelo!\n",
    "\n",
    "Poder utilizar el mismo catálogo de herramientas en toda la plataforma nos simplifica enormemente la vida al promover la reutilización de estos activos. Esto puede ahorrar horas de remodelación y estandarizar estos conceptos.\n",
    "\n",
    "¡Veamos cómo utilizar las herramientas en la práctica!\n",
    "\n",
    "1. En el **menú principal** de la izquierda, haz clic en **`Playground`**\n",
    "2. Haz clic en el **selector de modelo** y selecciona el modelo **`Llama 4 Maverick`** (si aún no está seleccionado)\n",
    "3. Hacer clic **Tools** y luego en **Add Tool** \n",
    "4. En **Hosted Function**, tipear `agents_ia.atencion.revisa_resena`\n",
    "5. Agregue instrucciones a continuación:\n",
    "    ```\n",
    "    Revise la reseña a continuación:\n",
    " Compré una tableta y estoy muy descontento con la calidad de la batería. Dura muy poco y tarda mucho en cargarse.\n",
    "    ```\n",
    "6. Haga clic en el ícono **enviar**"
   ]
  },
  {
   "cell_type": "markdown",
   "metadata": {
    "application/vnd.databricks.v1+cell": {
     "cellMetadata": {},
     "inputWidgets": {},
     "nuid": "68cc1318-c151-4fd3-9611-73b897fbb778",
     "showTitle": false,
     "tableResultSettingsMap": {},
     "title": ""
    }
   },
   "source": [
    "## Consulta de datos de clientes\n",
    "\n",
    "Las herramientas se pueden utilizar en diferentes escenarios, como:\n",
    "\n",
    "- Consultar información en bases de datos\n",
    "- Calcular indicadores complejos\n",
    "- Generar un texto basado en la información disponible\n",
    "- Interactuar con API y sistemas externos\n",
    "\n",
    "Como ya hemos comentado, esto será muy importante para que podamos producir respuestas más personalizadas y precisas en nuestro agente.\n",
    "\n",
    "En nuestro caso nos gustaría:\n",
    "- Consultar datos del cliente\n",
    "- Búsqueda de preguntas y respuestas en una base de conocimientos\n",
    "- Proporciona recomendaciones de productos personalizadas basadas en tus descripciones.\n",
    "\n",
    "¡Comencemos consultando los datos de los clientes!"
   ]
  },
  {
   "cell_type": "markdown",
   "metadata": {
    "application/vnd.databricks.v1+cell": {
     "cellMetadata": {},
     "inputWidgets": {},
     "nuid": "638fbd32-3303-4966-b2fe-26dad0b3753c",
     "showTitle": false,
     "tableResultSettingsMap": {},
     "title": ""
    }
   },
   "source": [
    "### A. Seleccione la base de datos creada previamente"
   ]
  },
  {
   "cell_type": "code",
   "execution_count": 0,
   "metadata": {
    "application/vnd.databricks.v1+cell": {
     "cellMetadata": {
      "byteLimit": 2048000,
      "rowLimit": 10000
     },
     "inputWidgets": {},
     "nuid": "786f8241-ecb9-4d76-8eb2-0d148cefe33e",
     "showTitle": false,
     "tableResultSettingsMap": {},
     "title": ""
    }
   },
   "outputs": [],
   "source": [
    "USE agents_ia.atencion"
   ]
  },
  {
   "cell_type": "markdown",
   "metadata": {
    "application/vnd.databricks.v1+cell": {
     "cellMetadata": {},
     "inputWidgets": {},
     "nuid": "7fe75424-61d3-41e4-ab74-ede89718f545",
     "showTitle": false,
     "tableResultSettingsMap": {},
     "title": ""
    }
   },
   "source": [
    "### B. Crear la función"
   ]
  },
  {
   "cell_type": "code",
   "execution_count": 0,
   "metadata": {
    "application/vnd.databricks.v1+cell": {
     "cellMetadata": {
      "byteLimit": 2048000,
      "rowLimit": 10000
     },
     "inputWidgets": {},
     "nuid": "c25cbad7-9f90-4d76-9cd3-c5fc812bef44",
     "showTitle": false,
     "tableResultSettingsMap": {},
     "title": ""
    }
   },
   "outputs": [],
   "source": [
    "CREATE OR REPLACE FUNCTION CONSULTA_CLIENTE(id_cliente BIGINT)\n",
    "RETURNS TABLE (nome STRING, sobrenome STRING, num_pedidos INT)\n",
    "COMMENT 'Utilice esta función para consultar los datos de un cliente'\n",
    "RETURN SELECT nome, sobrenome, num_pedidos FROM clientes c WHERE c.id_cliente = consulta_cliente.id_cliente"
   ]
  },
  {
   "cell_type": "markdown",
   "metadata": {
    "application/vnd.databricks.v1+cell": {
     "cellMetadata": {},
     "inputWidgets": {},
     "nuid": "12943b40-132e-43b8-b3a8-b0d7086e5da5",
     "showTitle": false,
     "tableResultSettingsMap": {},
     "title": ""
    }
   },
   "source": [
    "### C. Probar la función"
   ]
  },
  {
   "cell_type": "code",
   "execution_count": 0,
   "metadata": {
    "application/vnd.databricks.v1+cell": {
     "cellMetadata": {
      "byteLimit": 2048000,
      "rowLimit": 10000
     },
     "inputWidgets": {},
     "nuid": "dd093817-7493-4a63-9784-a01968bebb7e",
     "showTitle": false,
     "tableResultSettingsMap": {},
     "title": ""
    }
   },
   "outputs": [],
   "source": [
    "SELECT * FROM consulta_cliente(2)"
   ]
  },
  {
   "cell_type": "markdown",
   "metadata": {
    "application/vnd.databricks.v1+cell": {
     "cellMetadata": {},
     "inputWidgets": {},
     "nuid": "214190cb-dd29-46b0-80ed-f1550bbca100",
     "showTitle": false,
     "tableResultSettingsMap": {},
     "title": ""
    }
   },
   "source": [
    "### D. Probar la función como herramienta.\n",
    "\n",
    "1. En el **menú principal** de la izquierda, haz clic en **`Playground`**\n",
    "2. Haga clic en el **selector de modelo** y seleccione el modelo **`Llama 4 Maverick`** (si aún no está seleccionado)\n",
    "3. Haga clic en **Tools** y luego en **Add Tools**\n",
    "4. En **Hosted function**, escriba `agents_ia.atencion.consulta_cliente` y `agents_ia.atencion.revisa_resena`\n",
    "5. Agregue las instrucciones a continuación:<br>\n",
    " Generar una respuesta al cliente 1 que no está satisfecho con la calidad de la pantalla de su tablet. No olvides personalizar el mensaje con el nombre del cliente.\n",
    "6. Haga clic en el ícono **enviar**"
   ]
  },
  {
   "cell_type": "markdown",
   "metadata": {
    "application/vnd.databricks.v1+cell": {
     "cellMetadata": {},
     "inputWidgets": {},
     "nuid": "fac3d48c-8a04-44f1-80e4-ec799fdc3a14",
     "showTitle": false,
     "tableResultSettingsMap": {},
     "title": ""
    }
   },
   "source": [
    "### E. Análisis de los resultados\n",
    "\n",
    "Con el resultado del ejercicio anterior, siga estos pasos:\n",
    "\n",
    "1. En la parte inferior de la respuesta, haga clic en **`View trace`**\n",
    "\n",
    "2. En este panel, navegue entre las diferentes acciones ejecutadas a la izquierda.\n",
    "\n",
    "De esta manera, podrá comprender el razonamiento del agente: qué acciones se ejecutaron, con qué parámetros y en qué orden. Además, si se produce un error de ejecución, esto nos servirá de base para comprender y corregir cualquier problema."
   ]
  },
  {
   "cell_type": "markdown",
   "metadata": {
    "application/vnd.databricks.v1+cell": {
     "cellMetadata": {},
     "inputWidgets": {},
     "nuid": "5d2a1929-812c-48a2-baa2-a57a9e5c0e4e",
     "showTitle": false,
     "tableResultSettingsMap": {},
     "title": ""
    }
   },
   "source": [
    "## Búsqueda de preguntas y respuestas en una base de conocimientos\n",
    "\n",
    "Ahora, necesitamos preparar una función que nos permita aprovechar una base de conocimientos para guiar las respuestas de nuestro agente.\n",
    "\n",
    "Para hacer esto, usaremos **Vector Search**. Este componente nos permite comparar las preguntas formuladas por nuestro cliente con las de la base de conocimiento y luego recuperar la respuesta correspondiente a la pregunta con mayor similitud. ¡Lo único que debemos hacer es indexar las preguntas frecuentes, que subimos anteriormente, en Vector Search!\n",
    "\n",
    "¡Vamos!"
   ]
  },
  {
   "cell_type": "markdown",
   "metadata": {
    "application/vnd.databricks.v1+cell": {
     "cellMetadata": {},
     "inputWidgets": {},
     "nuid": "dd575016-ee5e-4bfe-8b78-379cab6978d7",
     "showTitle": false,
     "tableResultSettingsMap": {},
     "title": ""
    }
   },
   "source": [
    "### A. Habilitar o Change Data Feed na tabela `FAQ`\n",
    "\n",
    "Esta configuración permite a Vector Search leer los datos ingresados, eliminados o modificados en las preguntas frecuentes de forma incremental."
   ]
  },
  {
   "cell_type": "code",
   "execution_count": 0,
   "metadata": {
    "application/vnd.databricks.v1+cell": {
     "cellMetadata": {
      "byteLimit": 2048000,
      "rowLimit": 10000
     },
     "inputWidgets": {},
     "nuid": "3ed0ce0f-95ea-4894-bf1e-4e1ff16e747b",
     "showTitle": false,
     "tableResultSettingsMap": {},
     "title": ""
    }
   },
   "outputs": [],
   "source": [
    "ALTER TABLE faq SET TBLPROPERTIES (delta.enableChangeDataFeed = true)"
   ]
  },
  {
   "cell_type": "markdown",
   "metadata": {
    "application/vnd.databricks.v1+cell": {
     "cellMetadata": {},
     "inputWidgets": {},
     "nuid": "031012b6-8ecf-442c-916e-7d1305ea4979",
     "showTitle": false,
     "tableResultSettingsMap": {},
     "title": ""
    }
   },
   "source": [
    "### B. Crear un índice en Búsqueda de vectores (Vector Search)\n",
    "\n",
    "1. No **menu principal** à esquerda, clique em **`Catalog`**\n",
    "2. Busque a sua **tabela** `agents_ia.atencion.faq`\n",
    "3. Clique em `Create` e depois em `Vector search index`\n",
    "4. Preencha o formulário:\n",
    "    - **Nome:** faq_index\n",
    "    - **Primary key:** id\n",
    "    - **Endpoint**: selecione o endpoint desejado\n",
    "    - **Columns to sync:** deixar em branco (sincroniza todas as colunas)\n",
    "    - **Embedding source:** Compute embeddings (Vector Search gestiona la indexación/creación de embeddings)\n",
    "    - **Embedding source column:** pregunta\n",
    "    - **Embedding model:** databricks-gte-large-en\n",
    "    - **Sync computed embeddings:** desabilitado\n",
    "    - **Sync mode:** Triggered\n",
    "5. Clique em `Create`\n",
    "6. Aguarde a criação do índice finalizar"
   ]
  },
  {
   "cell_type": "markdown",
   "metadata": {
    "application/vnd.databricks.v1+cell": {
     "cellMetadata": {},
     "inputWidgets": {},
     "nuid": "ee7c67fa-36aa-4613-9064-0ab838ea975f",
     "showTitle": false,
     "tableResultSettingsMap": {},
     "title": ""
    }
   },
   "source": [
    "### C. Crear la función"
   ]
  },
  {
   "cell_type": "code",
   "execution_count": 0,
   "metadata": {
    "application/vnd.databricks.v1+cell": {
     "cellMetadata": {},
     "inputWidgets": {},
     "nuid": "13de3716-752e-4c2c-a982-1dad70266825",
     "showTitle": false,
     "tableResultSettingsMap": {},
     "title": ""
    }
   },
   "outputs": [],
   "source": [
    "CREATE OR REPLACE FUNCTION consulta_faq(pregunta STRING)\n",
    "RETURNS TABLE(id LONG, pregunta STRING, respuesta STRING, search_score DOUBLE)\n",
    "COMMENT 'Utilice esta función para consultar la base de conocimientos sobre tiempos de entrega, solicitudes de cambio o devolución, entre otras preguntas frecuentes sobre nuestro mercado.'\n",
    "RETURN select * from vector_search(\n",
    "  index => 'agents_ia.atencion.faq_index', \n",
    "  query => consulta_faq.pregunta,\n",
    "  num_results => 1\n",
    ")"
   ]
  },
  {
   "cell_type": "code",
   "execution_count": 0,
   "metadata": {
    "application/vnd.databricks.v1+cell": {
     "cellMetadata": {},
     "inputWidgets": {},
     "nuid": "06be027d-1355-45e7-b6e4-97d89d0e3f0a",
     "showTitle": false,
     "tableResultSettingsMap": {},
     "title": ""
    }
   },
   "outputs": [],
   "source": [
    "CREATE OR REPLACE FUNCTION agents_ia.atencion.consulta_faq(pregunta STRING)\n",
    "RETURNS STRING\n",
    "COMMENT 'Utilice esta función para consultar la base de conocimientos sobre tiempos de entrega, solicitudes de cambio o devolución, entre otras preguntas frecuentes sobre nuestro mercado.'\n",
    "RETURN (\n",
    "  SELECT respuesta___ \n",
    "  FROM vector_search(\n",
    "    index => 'funcionesai.carga.faq_index', \n",
    "    query => pregunta,\n",
    "    num_results => 1\n",
    "  )\n",
    "  LIMIT 1\n",
    ")"
   ]
  },
  {
   "cell_type": "markdown",
   "metadata": {
    "application/vnd.databricks.v1+cell": {
     "cellMetadata": {},
     "inputWidgets": {},
     "nuid": "c931ac55-f32f-4da9-a2c9-d0c7d527ffb1",
     "showTitle": false,
     "tableResultSettingsMap": {},
     "title": ""
    }
   },
   "source": [
    "### D. Probar la función"
   ]
  },
  {
   "cell_type": "code",
   "execution_count": 0,
   "metadata": {
    "application/vnd.databricks.v1+cell": {
     "cellMetadata": {},
     "inputWidgets": {},
     "nuid": "daba4c04-a83a-4a58-81eb-e6b18925ef67",
     "showTitle": false,
     "tableResultSettingsMap": {},
     "title": ""
    }
   },
   "outputs": [],
   "source": [
    "SELECT consulta_faq('¿Cuál es el plazo de devolución?') AS STRING"
   ]
  },
  {
   "cell_type": "code",
   "execution_count": 0,
   "metadata": {
    "application/vnd.databricks.v1+cell": {
     "cellMetadata": {},
     "inputWidgets": {},
     "nuid": "639a87cc-b254-4e80-b5b5-c33246b47f67",
     "showTitle": false,
     "tableResultSettingsMap": {},
     "title": ""
    }
   },
   "outputs": [],
   "source": [
    "SELECT consulta_faq('¿Cómo emitir un duplicado?')"
   ]
  },
  {
   "cell_type": "markdown",
   "metadata": {
    "application/vnd.databricks.v1+cell": {
     "cellMetadata": {},
     "inputWidgets": {},
     "nuid": "9b1e91d6-fbcf-42d0-a9cf-a5b46d79ad16",
     "showTitle": false,
     "tableResultSettingsMap": {},
     "title": ""
    }
   },
   "source": [
    "### E. Pruebe la función como herramienta.\n",
    "\n",
    "1. En el **menú principal** de la izquierda, haz clic en **`Playground`**\n",
    "2. Haga clic en el **selector de modelo** y seleccione el modelo **`Llama 4 Maverick`** (si aún no está seleccionado)\n",
    "3. Haga clic en **Tools** y luego en **Add Tools**\n",
    "4. En **Hosted Function**, escriba `agents_ia.atencion.consulta_faq`\n",
    "5. Agregue la siguiente declaración:\n",
    " ```\n",
    " ¿Cuál es el plazo de devolución?\n",
    " ```\n",
    "6. Haga clic en el ícono **enviar**"
   ]
  },
  {
   "cell_type": "markdown",
   "metadata": {
    "application/vnd.databricks.v1+cell": {
     "cellMetadata": {},
     "inputWidgets": {},
     "nuid": "e412480f-d581-461d-b8dd-d7814ec0c2c5",
     "showTitle": false,
     "tableResultSettingsMap": {},
     "title": ""
    }
   },
   "source": [
    "## Proporcionar recomendaciones de productos personalizadas basadas en sus descripciones.\n",
    "\n",
    "Finalmente, también nos gustaría crear una herramienta para ayudar a nuestros clientes a encontrar productos que tengan descripciones similares. Esta herramienta ayudará a los clientes que no están satisfechos con un producto y buscan un cambio."
   ]
  },
  {
   "cell_type": "markdown",
   "metadata": {
    "application/vnd.databricks.v1+cell": {
     "cellMetadata": {},
     "inputWidgets": {},
     "nuid": "4688b04b-b1b2-4379-9a84-d8b4c4cd994a",
     "showTitle": false,
     "tableResultSettingsMap": {},
     "title": ""
    }
   },
   "source": [
    "### A. Habilite Change Data Feed en la tabla `productos`"
   ]
  },
  {
   "cell_type": "code",
   "execution_count": 0,
   "metadata": {
    "application/vnd.databricks.v1+cell": {
     "cellMetadata": {},
     "inputWidgets": {},
     "nuid": "36f9a24d-4587-457a-8754-e63068b71981",
     "showTitle": false,
     "tableResultSettingsMap": {},
     "title": ""
    }
   },
   "outputs": [],
   "source": [
    "ALTER TABLE productos SET TBLPROPERTIES (delta.enableChangeDataFeed = true)"
   ]
  },
  {
   "cell_type": "markdown",
   "metadata": {
    "application/vnd.databricks.v1+cell": {
     "cellMetadata": {},
     "inputWidgets": {},
     "nuid": "14e01ce2-375a-492a-87f8-8a9426fd69f9",
     "showTitle": false,
     "tableResultSettingsMap": {},
     "title": ""
    }
   },
   "source": [
    "### B. Crear un índice en el Vector Search\n",
    "\n",
    "1. En el **menú principal** de la izquierda, haga clic en **`Catálogo`**\n",
    "2. Busca tu **tabla** `agents_ia.atencion.productos`\n",
    "3. Haga clic en `Create` y luego en `Vector search index`\n",
    "4. Complete el formulario:\n",
    " - **Nombre:** id\n",
    " - **Primary key:** id\n",
    " - **Endpoint**: seleccione el punto final deseado\n",
    " - **Columns to sync:** dejar en blanco (sincroniza todas las columnas)\n",
    " - **Fuente de incrustación:** Computar incrustaciones (Vector Search gestiona la indexación/creación de incrustaciones)\n",
    " - **Embedding source:** descripción\n",
    " - **Embedding model:** databricks-gte-large-en\n",
    " - **Sync computed embeddings:** deshabilitado\n",
    " - **Sync mode:** Activado\n",
    "5. Haga clic en \"Create\".\n",
    "6. Espere a que finalice la creación del índice."
   ]
  },
  {
   "cell_type": "markdown",
   "metadata": {
    "application/vnd.databricks.v1+cell": {
     "cellMetadata": {},
     "inputWidgets": {},
     "nuid": "f9328f50-fdbd-4e55-bd79-463bc472b94a",
     "showTitle": false,
     "tableResultSettingsMap": {},
     "title": ""
    }
   },
   "source": [
    "### C. Crear la función"
   ]
  },
  {
   "cell_type": "code",
   "execution_count": 0,
   "metadata": {
    "application/vnd.databricks.v1+cell": {
     "cellMetadata": {},
     "inputWidgets": {},
     "nuid": "a21dd9ae-7c63-4d82-9fbb-5925675785e1",
     "showTitle": false,
     "tableResultSettingsMap": {},
     "title": ""
    }
   },
   "outputs": [],
   "source": [
    "CREATE OR REPLACE FUNCTION busca_productos_similares(descripcion STRING)\n",
    "RETURNS TABLE(id LONG, producto STRING, descripcion STRING, search_score DOUBLE)\n",
    "COMMENT 'Esta función recibe una descripción del producto, que se utiliza para buscar productos similares.'\n",
    "RETURN SELECT id, produto, descricao, search_score FROM (\n",
    "  SELECT *, ROW_NUMBER() OVER (ORDER BY search_score DESC) AS rn\n",
    "  FROM vector_search(\n",
    "    index => 'agents_ia.cargatencion.productos_index',\n",
    "    query => busca_productos_similares.descripcion,\n",
    "    num_results => 10)\n",
    "  WHERE search_score BETWEEN 0.003 AND 0.99\n",
    ") WHERE rn <= 3"
   ]
  },
  {
   "cell_type": "markdown",
   "metadata": {
    "application/vnd.databricks.v1+cell": {
     "cellMetadata": {},
     "inputWidgets": {},
     "nuid": "6315f5b1-84b6-4f86-93a4-8031ab8c22ec",
     "showTitle": false,
     "tableResultSettingsMap": {},
     "title": ""
    }
   },
   "source": [
    "### D. Probar la función"
   ]
  },
  {
   "cell_type": "code",
   "execution_count": 0,
   "metadata": {
    "application/vnd.databricks.v1+cell": {
     "cellMetadata": {},
     "inputWidgets": {},
     "nuid": "b67fc5d2-ab90-4a6b-83c5-36526ee77e04",
     "showTitle": false,
     "tableResultSettingsMap": {},
     "title": ""
    }
   },
   "outputs": [],
   "source": [
    "SELECT * FROM busca_productos_similares('Los auriculares DEF son un dispositivo de audio diseñado para brindar una experiencia de sonido envolvente y de alta calidad. Con controladores de alta fidelidad y tecnología de cancelación de ruido, te permite perderte en la música o los detalles de un podcast sin distracciones. Además, su diseño ergonómico garantiza comodidad durante un uso prolongado.')"
   ]
  },
  {
   "cell_type": "markdown",
   "metadata": {
    "application/vnd.databricks.v1+cell": {
     "cellMetadata": {},
     "inputWidgets": {},
     "nuid": "4ef6a2b1-7733-4416-9ace-338950d76747",
     "showTitle": false,
     "tableResultSettingsMap": {},
     "title": ""
    }
   },
   "source": [
    "### E. Probar la función como herramienta\n",
    "\n",
    "1. En el **menú principal** de la izquierda, haz clic en **`Playground`**\n",
    "2. Haga clic en el **selector de modelo** y seleccione el modelo **`Llama 4 Maverick`** (si aún no está seleccionado)\n",
    "3. Haga clic en **Tools** y luego en **Add tools**\n",
    "4. En **Hosted function**, escriba `agents_ia.atencion.busca_productos_similares`\n",
    "5. Agregue la siguiente declaración:\n",
    " ```\n",
    " ¿Qué tabletas tienen buena calidad de pantalla?\n",
    " ```\n",
    "6. Haga clic en el ícono **enviar**"
   ]
  },
  {
   "cell_type": "markdown",
   "metadata": {
    "application/vnd.databricks.v1+cell": {
     "cellMetadata": {},
     "inputWidgets": {},
     "nuid": "bd8e411f-47a4-4943-bea1-cd2a16f9dc47",
     "showTitle": false,
     "tableResultSettingsMap": {},
     "title": ""
    }
   },
   "source": [
    "## Probando a nuestro agente\n",
    "\n",
    "1. En el **menú principal** de la izquierda, haz clic en **`Playground`**\n",
    "2. Haga clic en el **selector de modelo** y seleccione el modelo **`Llama 4 Maverick`** (si aún no está seleccionado)\n",
    "3. Haga clic en **Tools** y luego en **Add tools**\n",
    "4. En **Hosted Function**, escriba `agents_ia.atencion.*` para agregar todas las funciones creadas.\n",
    "5. En **System Prompt**, escriba: <br>\n",
    "`Eres un asistente virtual para un comercio electrónico. Para responder preguntas, el cliente debe proporcionar su cédula. Si aún no tiene esta información, solicite cortésmente su cédula. Podrás resolver dudas sobre entrega, devoluciones de productos, estado de pedidos, entre otras. Si no sabe cómo responder la pregunta, diga que no lo sabe. No inventes ni especules sobre nada. Siempre que se le pregunte sobre procedimientos, consulte nuestra base de conocimientos.`\n",
    "6. Escribe \"¡Hola!\"\n",
    "7. Ingrese el número de cédula `000.000.000-01`\n",
    "8. Escriba \"Compré una tableta DEF, pero la calidad de la pantalla es muy mala\".\n",
    "9. Escriba \"¿Podría recomendar productos similares?\"\n",
    "10. Escriba \"¿Cómo solicito un cambio?\""
   ]
  },
  {
   "cell_type": "markdown",
   "metadata": {
    "application/vnd.databricks.v1+cell": {
     "cellMetadata": {},
     "inputWidgets": {},
     "nuid": "492db212-69a0-45d9-b0cc-87cc72751a4d",
     "showTitle": false,
     "tableResultSettingsMap": {},
     "title": ""
    }
   },
   "source": [
    "# ¡Felicidades!\n",
    "\n",
    "¡Has completado su primer laboratorio de **Agentes**!\n",
    "\n",
    "¡Ahora ya sabes cómo utilizar Foundation Models, Playground y las herramientas de catálogo de Unity para crear prototipos de forma rápida y sencilla de agentes capaces de responder con precisión preguntas complejas!"
   ]
  }
 ],
 "metadata": {
  "application/vnd.databricks.v1+notebook": {
   "computePreferences": null,
   "dashboards": [],
   "environmentMetadata": null,
   "inputWidgetPreferences": null,
   "language": "sql",
   "notebookMetadata": {
    "pythonIndentUnit": 4
   },
   "notebookName": "🛠️ Agentes de IA",
   "widgets": {}
  },
  "language_info": {
   "name": "sql"
  }
 },
 "nbformat": 4,
 "nbformat_minor": 0
}
